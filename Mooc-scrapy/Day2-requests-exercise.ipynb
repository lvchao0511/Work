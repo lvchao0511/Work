{
 "metadata": {
  "language_info": {
   "codemirror_mode": {
    "name": "ipython",
    "version": 3
   },
   "file_extension": ".py",
   "mimetype": "text/x-python",
   "name": "python",
   "nbconvert_exporter": "python",
   "pygments_lexer": "ipython3",
   "version": "3.8.5-final"
  },
  "orig_nbformat": 2,
  "kernelspec": {
   "name": "python385jvsc74a57bd073e03da126b73bfff3642ec5261d56fa25c444ea595de51041687efaa60dda41",
   "display_name": "Python 3.8.5 32-bit (conda)"
  }
 },
 "nbformat": 4,
 "nbformat_minor": 2,
 "cells": [
  {
   "source": [
    "## 爬取京东"
   ],
   "cell_type": "markdown",
   "metadata": {}
  },
  {
   "cell_type": "code",
   "execution_count": null,
   "metadata": {},
   "outputs": [],
   "source": [
    "import requests\n",
    "\n",
    "header = {\n",
    "    'user-agent': 'Mozilla/5.0 (Windows NT 10.0; Win64; x64) AppleWebKit/537.36 (KHTML, like Gecko) Chrome/90.0.4430.61 Safari/537.36 Edg/90.0.818.36'\n",
    "}\n",
    "url_1 = 'https://item.jd.com/100016034408.html'\n",
    "\n",
    "try:\n",
    "    r = requests.get(url_1, headers = header)\n",
    "    r.raise_for_status()\n",
    "    r.encoding = r.apparent_encoding\n",
    "    print(r.text[:1000])\n",
    "except:\n",
    "    print('爬取失败')"
   ]
  },
  {
   "source": [
    "## 爬取亚马逊"
   ],
   "cell_type": "markdown",
   "metadata": {}
  },
  {
   "cell_type": "code",
   "execution_count": null,
   "metadata": {},
   "outputs": [],
   "source": [
    "url_2 = 'https://www.amazon.cn/dp/B07QW776Y2/ref=zg_bs_116169071_6?_encoding=UTF8&psc=1&refRID=5EZQBSFDTVXYE2JWJXGK'\n",
    "\n",
    "r = requests.get(url_2, headers = header)\n",
    "r.text[1000:2000]"
   ]
  },
  {
   "source": [
    "## 百度搜索接口"
   ],
   "cell_type": "markdown",
   "metadata": {}
  },
  {
   "cell_type": "code",
   "execution_count": null,
   "metadata": {},
   "outputs": [],
   "source": [
    "keywords = {\n",
    "    'wd':'Python'\n",
    "}\n",
    "url_3 = 'http://www.baidu.com/s'\n",
    "\n",
    "r = requests.get(url_3, headers = header, params = keywords)\n",
    "len(r.text)"
   ]
  },
  {
   "source": [
    "## 网络图片爬取"
   ],
   "cell_type": "markdown",
   "metadata": {}
  },
  {
   "cell_type": "code",
   "execution_count": null,
   "metadata": {},
   "outputs": [],
   "source": [
    "import os\n",
    "\n",
    "path = 'D:/abc.jpg'\n",
    "url_4 = 'https://up.enterdesk.com/edpic_source/45/43/2f/45432f3bb268e20e8f61264ed7cc3f85.jpg'\n",
    "\n",
    "try:\n",
    "    if not os.path.exists(path):\n",
    "        r = requests.get(url_4, headers = header)\n",
    "        with open(path, 'wb') as f:\n",
    "            f.write(r.content)\n",
    "            f.close()\n",
    "            print('文件保存成功')\n",
    "    else:\n",
    "        print('文件已存在')\n",
    "except:\n",
    "    print('爬取失败')\n"
   ]
  },
  {
   "source": [
    "## IP地址归属地的自动查询"
   ],
   "cell_type": "markdown",
   "metadata": {}
  },
  {
   "cell_type": "code",
   "execution_count": null,
   "metadata": {},
   "outputs": [],
   "source": [
    "url_5 = 'http://m.ip138.com/ip.asp?ip='\n",
    "r = requests.get(url_5 + '202.204.80.112', headers = header)\n",
    "r.text[-500:]"
   ]
  },
  {
   "cell_type": "code",
   "execution_count": null,
   "metadata": {},
   "outputs": [],
   "source": []
  }
 ]
}